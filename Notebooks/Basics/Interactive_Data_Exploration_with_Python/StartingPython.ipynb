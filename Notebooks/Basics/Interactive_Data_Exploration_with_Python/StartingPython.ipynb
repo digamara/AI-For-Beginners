{
  "cells": [
    {
      "cell_type": "markdown",
      "id": "2c21fc30",
      "metadata": {
        "id": "2c21fc30"
      },
      "source": [
        "## Starting with Python interactively"
      ]
    },
    {
      "cell_type": "markdown",
      "id": "01f89b15",
      "metadata": {
        "id": "01f89b15"
      },
      "source": [
        "This is an introduction to the programming language Python where we focus on interactive data exploration. There are lots of other more general introductions to Python as well. If you are interested in Python as a programming language, why not try one of the many online environments that help you learn it? We like the Code Academy course https://www.codecademy.com/learn/learn-python but there are many more."
      ]
    },
    {
      "cell_type": "markdown",
      "id": "d0c86c95",
      "metadata": {
        "id": "d0c86c95"
      },
      "source": [
        "A notebook is split into cells. You can run each cell with code by clicking on the arrow/Run in the top menu. Go to the next cell and click on it. Then, click on arrow/Run in the menu and you should see 4 + 3 = 7 as an output."
      ]
    },
    {
      "cell_type": "code",
      "execution_count": null,
      "id": "0a743534",
      "metadata": {
        "id": "0a743534"
      },
      "outputs": [],
      "source": [
        "4 + 3"
      ]
    },
    {
      "cell_type": "markdown",
      "id": "27da3040",
      "metadata": {
        "id": "27da3040"
      },
      "source": [
        "Now, let’s try it yourself by typing in ```12 - 5``` into the cell below. And then click on arrow/Run again."
      ]
    },
    {
      "cell_type": "code",
      "execution_count": 2,
      "id": "c8fdbe11",
      "metadata": {
        "id": "c8fdbe11",
        "outputId": "7b5e7935-a9b9-40ac-fe55-0bf5db00fbb9",
        "colab": {
          "base_uri": "https://localhost:8080/"
        }
      },
      "outputs": [
        {
          "output_type": "execute_result",
          "data": {
            "text/plain": [
              "7"
            ]
          },
          "metadata": {},
          "execution_count": 2
        }
      ],
      "source": [
        "12-5"
      ]
    },
    {
      "cell_type": "markdown",
      "id": "d23fe9ba",
      "metadata": {
        "id": "d23fe9ba"
      },
      "source": [
        "This works a little like a calculator from your school days.\n",
        "\n",
        "Brackets can be used to indicate that operators in the sub-expression take precedence - just like at school math. Try typing in ```(5 * 3) - 4```."
      ]
    },
    {
      "cell_type": "code",
      "execution_count": 3,
      "id": "9d40ab38",
      "metadata": {
        "id": "9d40ab38",
        "outputId": "fc9edfa6-ea6c-4141-c585-4168e7432bff",
        "colab": {
          "base_uri": "https://localhost:8080/"
        }
      },
      "outputs": [
        {
          "output_type": "execute_result",
          "data": {
            "text/plain": [
              "11"
            ]
          },
          "metadata": {},
          "execution_count": 3
        }
      ],
      "source": [
        "(5 * 3) - 4"
      ]
    },
    {
      "cell_type": "markdown",
      "id": "2bd2d968",
      "metadata": {
        "id": "2bd2d968"
      },
      "source": [
        "All this is very similar to what you know from calculators. But computers can process many other symbols as well. Other important symbols include ‘strings’, which you know as words. These can be any number of characters like a, b, c, etc. but also -, 1 or & count as characters.\n",
        "\n",
        "Let’s try this ...\n",
        "\n",
        "Please, type ```'Hello World'``` into the next cell. The quotation marks indicate that this is a string. You could also use ```\"Hello World\"```."
      ]
    },
    {
      "cell_type": "code",
      "execution_count": 4,
      "id": "29bae3fc",
      "metadata": {
        "id": "29bae3fc",
        "outputId": "2e6fcaa2-ec2e-4582-b4fc-d77897ef6251",
        "colab": {
          "base_uri": "https://localhost:8080/",
          "height": 35
        }
      },
      "outputs": [
        {
          "output_type": "execute_result",
          "data": {
            "text/plain": [
              "'Hello World'"
            ],
            "application/vnd.google.colaboratory.intrinsic+json": {
              "type": "string"
            }
          },
          "metadata": {},
          "execution_count": 4
        }
      ],
      "source": [
        "'Hello World'"
      ]
    },
    {
      "cell_type": "markdown",
      "id": "205daae8",
      "metadata": {
        "id": "205daae8"
      },
      "source": [
        "What do you see when you enter ```type('string')```?"
      ]
    },
    {
      "cell_type": "code",
      "execution_count": 5,
      "id": "f14b6397",
      "metadata": {
        "id": "f14b6397",
        "outputId": "9a5d2a51-edbb-462e-82ca-204379334c9e",
        "colab": {
          "base_uri": "https://localhost:8080/",
          "height": 35
        }
      },
      "outputs": [
        {
          "output_type": "execute_result",
          "data": {
            "text/plain": [
              "'Hello World'"
            ],
            "application/vnd.google.colaboratory.intrinsic+json": {
              "type": "string"
            }
          },
          "metadata": {},
          "execution_count": 5
        }
      ],
      "source": [
        "'Hello World'"
      ]
    },
    {
      "cell_type": "markdown",
      "id": "3b720ce3",
      "metadata": {
        "id": "3b720ce3"
      },
      "source": [
        "There are many more types, which we will cover throughout the course. Check out https://realpython.com/python-data-types/ for an overview.\n",
        "\n",
        "Booleans are another important type. They evaluate whether an assumption is True or False. Please, type ```4 < 5```. What do you get back?"
      ]
    },
    {
      "cell_type": "code",
      "execution_count": 6,
      "id": "aa6a5c51",
      "metadata": {
        "id": "aa6a5c51",
        "outputId": "2cc8a8cb-adb5-4ca0-c612-1ae95966afbc",
        "colab": {
          "base_uri": "https://localhost:8080/"
        }
      },
      "outputs": [
        {
          "output_type": "execute_result",
          "data": {
            "text/plain": [
              "True"
            ]
          },
          "metadata": {},
          "execution_count": 6
        }
      ],
      "source": [
        "4<5"
      ]
    },
    {
      "cell_type": "markdown",
      "id": "c506fa55",
      "metadata": {
        "id": "c506fa55"
      },
      "source": [
        "Another concept that discriminates programming languages from calculators are variables. They are basically names for places in the computer’s memory where we can store things. We create variables with the Python assignment operator ```=```.\n",
        "\n",
        "Let’s try that and assign the value 5 to the variable my_apples. Please, type in ```my_apples = 5```."
      ]
    },
    {
      "cell_type": "code",
      "execution_count": 7,
      "id": "c8909fda",
      "metadata": {
        "id": "c8909fda"
      },
      "outputs": [],
      "source": [
        "my_apples = 5"
      ]
    },
    {
      "cell_type": "markdown",
      "id": "183184bf",
      "metadata": {
        "id": "183184bf"
      },
      "source": [
        "Well done.\n",
        "\n",
        "Now print out my_apples. Just type ```my_apples```."
      ]
    },
    {
      "cell_type": "code",
      "execution_count": 8,
      "id": "8a5cb23a",
      "metadata": {
        "id": "8a5cb23a",
        "outputId": "c1568b7d-9464-46d7-dea9-6acad8de42fa",
        "colab": {
          "base_uri": "https://localhost:8080/"
        }
      },
      "outputs": [
        {
          "output_type": "execute_result",
          "data": {
            "text/plain": [
              "5"
            ]
          },
          "metadata": {},
          "execution_count": 8
        }
      ],
      "source": [
        "my_apples\n"
      ]
    },
    {
      "cell_type": "markdown",
      "id": "b583862a",
      "metadata": {
        "id": "b583862a"
      },
      "source": [
        "Numbers in Python are generally either integers (those without a floating point) or floats (those with a floating point). Check out https://docs.python.org/3/library/stdtypes.html for an overview of all the different numerical types in Python.\n",
        "\n",
        "Now let’s try to assign two variables.\n",
        "\n",
        "Type ```my_oranges = 6```."
      ]
    },
    {
      "cell_type": "code",
      "execution_count": 9,
      "id": "9c6f128e",
      "metadata": {
        "id": "9c6f128e"
      },
      "outputs": [],
      "source": [
        "my_oranges = 6"
      ]
    },
    {
      "cell_type": "markdown",
      "id": "9d906629",
      "metadata": {
        "id": "9d906629"
      },
      "source": [
        "You have created two variables my_apples and my_oranges.\n",
        "\n",
        "Just like numbers we can add two numerical variables. Please try it with ```my_apples + my_oranges```."
      ]
    },
    {
      "cell_type": "code",
      "execution_count": 10,
      "id": "053117f5",
      "metadata": {
        "id": "053117f5",
        "outputId": "134a1c6b-d063-4568-83c1-ccc047aa7e72",
        "colab": {
          "base_uri": "https://localhost:8080/"
        }
      },
      "outputs": [
        {
          "output_type": "execute_result",
          "data": {
            "text/plain": [
              "11"
            ]
          },
          "metadata": {},
          "execution_count": 10
        }
      ],
      "source": [
        "my_apples + my_oranges\n"
      ]
    },
    {
      "cell_type": "markdown",
      "id": "faffe77e",
      "metadata": {
        "id": "faffe77e"
      },
      "source": [
        "We can also assign the result to a new variable my_fruit. Please type ```my_fruit = my_apples + my_oranges```."
      ]
    },
    {
      "cell_type": "code",
      "execution_count": 11,
      "id": "5429ad35",
      "metadata": {
        "id": "5429ad35"
      },
      "outputs": [],
      "source": [
        "my_fruit = my_apples + my_oranges"
      ]
    },
    {
      "cell_type": "markdown",
      "id": "a68b01b0",
      "metadata": {
        "id": "a68b01b0"
      },
      "source": [
        "To check that the new variable exists, please enter ```my_fruit```."
      ]
    },
    {
      "cell_type": "code",
      "execution_count": 12,
      "id": "f435a978",
      "metadata": {
        "id": "f435a978",
        "outputId": "831233d9-6a8d-42df-d850-c11728b978a4",
        "colab": {
          "base_uri": "https://localhost:8080/"
        }
      },
      "outputs": [
        {
          "output_type": "execute_result",
          "data": {
            "text/plain": [
              "11"
            ]
          },
          "metadata": {},
          "execution_count": 12
        }
      ],
      "source": [
        "my_fruit"
      ]
    },
    {
      "cell_type": "markdown",
      "id": "4919b8c2",
      "metadata": {
        "id": "4919b8c2"
      },
      "source": [
        "But we can only combine variables of the same type. Please assign the string 'six' to my_oranges with ```my_oranges = 'six'```."
      ]
    },
    {
      "cell_type": "code",
      "execution_count": 13,
      "id": "793ab218",
      "metadata": {
        "id": "793ab218"
      },
      "outputs": [],
      "source": [
        "my_oranges = 'six'"
      ]
    },
    {
      "cell_type": "markdown",
      "id": "a87622d0",
      "metadata": {
        "id": "a87622d0"
      },
      "source": [
        "Now let’s try and ‘add’ my_apples and my_oranges. Type ```my_apples + my_oranges``` and you will get an error."
      ]
    },
    {
      "cell_type": "code",
      "execution_count": 2,
      "id": "d7a60629",
      "metadata": {
        "id": "d7a60629",
        "outputId": "b55f45dc-346e-4a21-9bd1-a51349ecae35",
        "colab": {
          "base_uri": "https://localhost:8080/",
          "height": 176
        }
      },
      "outputs": [
        {
          "ename": "NameError",
          "evalue": "ignored",
          "output_type": "error",
          "traceback": [
            "\u001b[0;31m---------------------------------------------------------------------------\u001b[0m",
            "\u001b[0;31mNameError\u001b[0m                                 Traceback (most recent call last)",
            "\u001b[0;32m<ipython-input-2-13a741a3bfe8>\u001b[0m in \u001b[0;36m<cell line: 1>\u001b[0;34m()\u001b[0m\n\u001b[0;32m----> 1\u001b[0;31m \u001b[0mmy_apples\u001b[0m \u001b[0;34m+\u001b[0m \u001b[0mmy_oranges\u001b[0m\u001b[0;34m\u001b[0m\u001b[0;34m\u001b[0m\u001b[0m\n\u001b[0m",
            "\u001b[0;31mNameError\u001b[0m: name 'my_apples' is not defined"
          ]
        }
      ],
      "source": [
        "'add' my_apples + my_oranges"
      ]
    },
    {
      "cell_type": "markdown",
      "id": "60981280",
      "metadata": {
        "id": "60981280"
      },
      "source": [
        "Variables are very important in any programming language.\n",
        "\n",
        "A final key idea for this first session is the function. It is  a predefined set of commands. On your calculator you can, for instance, use the inv function to get the inverse of a number. Python also has a lot of pre-defined functions like inv. But in any programming language you can also define your own functions. We will come back to this later in much more detail. For now, we focus on how to use functions.\n",
        "\n",
        "In Python, functions are called with arguments in brackets. They are often found in extra libraries that are basically collections of functions. More on that also later ...\n",
        "\n",
        "Please run ```round(9.5)``` to run the built-in math function round in Python. You should get 10. round is the function name and 9.5 is the only 'argument' as the input into functions is called."
      ]
    },
    {
      "cell_type": "code",
      "execution_count": 3,
      "id": "6860a965",
      "metadata": {
        "id": "6860a965",
        "outputId": "46c7804a-b9c9-4ca1-e15a-fe82a419a3b8",
        "colab": {
          "base_uri": "https://localhost:8080/"
        }
      },
      "outputs": [
        {
          "output_type": "execute_result",
          "data": {
            "text/plain": [
              "10"
            ]
          },
          "metadata": {},
          "execution_count": 3
        }
      ],
      "source": [
        "round(9.5)"
      ]
    },
    {
      "cell_type": "markdown",
      "id": "ffc7d36c",
      "metadata": {
        "id": "ffc7d36c"
      },
      "source": [
        "That's already it for the first session. Lots of ideas that will help you with getting into Python. You will get used to them with practice. Why not try now to look at https://www.codecademy.com/learn/learn-python to practice."
      ]
    },
    {
      "cell_type": "code",
      "execution_count": 4,
      "id": "20cd8b29",
      "metadata": {
        "id": "20cd8b29"
      },
      "outputs": [],
      "source": [
        "import numpy\n"
      ]
    }
  ],
  "metadata": {
    "kernelspec": {
      "display_name": "Python 3",
      "language": "python",
      "name": "python3"
    },
    "language_info": {
      "codemirror_mode": {
        "name": "ipython",
        "version": 3
      },
      "file_extension": ".py",
      "mimetype": "text/x-python",
      "name": "python",
      "nbconvert_exporter": "python",
      "pygments_lexer": "ipython3",
      "version": "3.9.10"
    },
    "colab": {
      "provenance": []
    }
  },
  "nbformat": 4,
  "nbformat_minor": 5
}